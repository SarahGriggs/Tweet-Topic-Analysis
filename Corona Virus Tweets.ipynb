{
 "cells": [
  {
   "cell_type": "markdown",
   "metadata": {},
   "source": [
    "# Coronavirus Tweets"
   ]
  },
  {
   "cell_type": "markdown",
   "metadata": {},
   "source": [
    "Objective: Show how topics change and migrate from place to place through time.\n",
    "\n",
    "Step 1: Using conda, pull original tweets that discuss coronavirus. "
   ]
  },
  {
   "cell_type": "code",
   "execution_count": 1,
   "metadata": {},
   "outputs": [],
   "source": [
    "import os\n",
    "import tweepy as tw\n",
    "import pandas as pd\n",
    "import datetime\n",
    "from datetime import datetime"
   ]
  },
  {
   "cell_type": "code",
   "execution_count": 2,
   "metadata": {},
   "outputs": [],
   "source": [
    "consumer_key= 'RT0nIZdla7OWBZpBK4rVAZ6XX'\n",
    "consumer_secret= 'OyDsHf9W7MWVuetOUJZlv3HY68BCsgHx9M5sdK4sXkAbXW2yiE'\n",
    "access_token= '1113892594793291783-kYKaEiqNsstv8PLMoVHeYpb1D3F3uv'\n",
    "access_token_secret= 'VqrsUHU8wa2iPmWvsYwf87DtLYv1rn8MlLD8ccV1TbI7Q'"
   ]
  },
  {
   "cell_type": "code",
   "execution_count": 3,
   "metadata": {},
   "outputs": [],
   "source": [
    "auth = tw.OAuthHandler(consumer_key, consumer_secret)\n",
    "auth.set_access_token(access_token, access_token_secret)\n",
    "api = tw.API(auth, wait_on_rate_limit=True)"
   ]
  },
  {
   "cell_type": "markdown",
   "metadata": {},
   "source": [
    "The date is irrelevant with such a large sample size combined with limits imposed by not having the premium twitter API access."
   ]
  },
  {
   "cell_type": "code",
   "execution_count": 4,
   "metadata": {},
   "outputs": [],
   "source": [
    "search_words = \"coronavirus\" \n",
    "new_search = search_words + \" -filter:retweets\"\n",
    "new_search\n",
    "date_since = \"2020-02-04\""
   ]
  },
  {
   "cell_type": "code",
   "execution_count": 5,
   "metadata": {},
   "outputs": [],
   "source": [
    "\n",
    "tweets = tw.Cursor(api.search,\n",
    "                       q=new_search,\n",
    "                       lang=\"en\",\n",
    "                       since=date_since).items(1000)\n",
    "\n",
    "\n",
    "tweet_data = [[tweet.text, tweet.created_at, tweet.coordinates, tweet.place, tweet.favorite_count, tweet.retweet_count, tweet.user] for tweet in tweets]\n"
   ]
  },
  {
   "cell_type": "markdown",
   "metadata": {},
   "source": [
    "Pulled 10K tweets at a time for POC, Markdown will go faster with 1K tweets. "
   ]
  },
  {
   "cell_type": "code",
   "execution_count": 6,
   "metadata": {},
   "outputs": [],
   "source": [
    "tweet_df = pd.DataFrame(data=tweet_data, \n",
    "                   columns=['tweet', \"date\", \"coordinates\", \"place\", \"favorite count\", \"retweet count\", \"user data\"]  )\n"
   ]
  },
  {
   "cell_type": "code",
   "execution_count": 7,
   "metadata": {},
   "outputs": [
    {
     "name": "stdout",
     "output_type": "stream",
     "text": [
      "02182020\n"
     ]
    }
   ],
   "source": [
    "now = datetime.now() # current date and time\n",
    "year = now.strftime(\"%Y\")\n",
    "month = now.strftime(\"%m\")\n",
    "day = now.strftime(\"%d\")\n",
    "\n",
    "\n",
    "date_time = now.strftime(\"%m%d%Y\")\n",
    "print(date_time)"
   ]
  },
  {
   "cell_type": "code",
   "execution_count": 8,
   "metadata": {},
   "outputs": [],
   "source": [
    "\n",
    "tweet_df.to_csv(date_time+'coronatweets.csv')"
   ]
  },
  {
   "cell_type": "markdown",
   "metadata": {},
   "source": [
    "Optimizations:\n",
    "\n",
    "Twitter Developer API access for faster pulls and older tweets.\n",
    "\n",
    "Run starting 1/1/2020 to show start of Coronavirus. "
   ]
  }
 ],
 "metadata": {
  "kernelspec": {
   "display_name": "Python 3",
   "language": "python",
   "name": "python3"
  },
  "language_info": {
   "codemirror_mode": {
    "name": "ipython",
    "version": 3
   },
   "file_extension": ".py",
   "mimetype": "text/x-python",
   "name": "python",
   "nbconvert_exporter": "python",
   "pygments_lexer": "ipython3",
   "version": "3.7.0"
  }
 },
 "nbformat": 4,
 "nbformat_minor": 2
}
